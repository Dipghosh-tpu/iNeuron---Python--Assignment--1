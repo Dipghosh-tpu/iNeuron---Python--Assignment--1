{
 "cells": [
  {
   "cell_type": "markdown",
   "metadata": {},
   "source": [
    "# Assignment - Sunanda Kumar Ghosh  \n",
    "# Task-1"
   ]
  },
  {
   "cell_type": "markdown",
   "metadata": {},
   "source": [
    "## Q2. Write a program which will find all such numbers which are divisible by 7 but are not a multiple\n",
    "## of 5, between 2000 and 3200 (both included). The numbers obtained should be printed in a\n",
    "## comma-separated sequence on a single line."
   ]
  },
  {
   "cell_type": "code",
   "execution_count": 18,
   "metadata": {},
   "outputs": [
    {
     "name": "stdout",
     "output_type": "stream",
     "text": [
      "[2002, 2009, 2016, 2023, 2037, 2044, 2051, 2058, 2072, 2079, 2086, 2093, 2107, 2114, 2121, 2128, 2142, 2149, 2156, 2163, 2177, 2184, 2191, 2198, 2212, 2219, 2226, 2233, 2247, 2254, 2261, 2268, 2282, 2289, 2296, 2303, 2317, 2324, 2331, 2338, 2352, 2359, 2366, 2373, 2387, 2394, 2401, 2408, 2422, 2429, 2436, 2443, 2457, 2464, 2471, 2478, 2492, 2499, 2506, 2513, 2527, 2534, 2541, 2548, 2562, 2569, 2576, 2583, 2597, 2604, 2611, 2618, 2632, 2639, 2646, 2653, 2667, 2674, 2681, 2688, 2702, 2709, 2716, 2723, 2737, 2744, 2751, 2758, 2772, 2779, 2786, 2793, 2807, 2814, 2821, 2828, 2842, 2849, 2856, 2863, 2877, 2884, 2891, 2898, 2912, 2919, 2926, 2933, 2947, 2954, 2961, 2968, 2982, 2989, 2996, 3003, 3017, 3024, 3031, 3038, 3052, 3059, 3066, 3073, 3087, 3094, 3101, 3108, 3122, 3129, 3136, 3143, 3157, 3164, 3171, 3178, 3192, 3199],"
     ]
    }
   ],
   "source": [
    "m=[]\n",
    "for i in range(2000,3201):\n",
    "    if ((i%5 == 0) or (i%5 == 5)):\n",
    "        continue\n",
    "    elif (i%7 == 0):  \n",
    "        m.append(i)  \n",
    "print(m,end=',')"
   ]
  },
  {
   "cell_type": "markdown",
   "metadata": {},
   "source": [
    "## Q3. Write a Python program to accept the user's first and last name and then getting them printed in\n",
    "## the the reverse order with a space between first name and last name."
   ]
  },
  {
   "cell_type": "code",
   "execution_count": 21,
   "metadata": {},
   "outputs": [
    {
     "name": "stdin",
     "output_type": "stream",
     "text": [
      "Please provide your first name:- Sunanda\n",
      "Please provide your last name:- Ghosh\n"
     ]
    },
    {
     "name": "stdout",
     "output_type": "stream",
     "text": [
      "Ghosh  Sunanda\n"
     ]
    }
   ],
   "source": [
    "a = input('Please provide your first name:-')\n",
    "b = input('Please provide your last name:-')\n",
    "\n",
    "print(b,'',a)"
   ]
  },
  {
   "cell_type": "markdown",
   "metadata": {},
   "source": [
    "## Q4. Write a Python program to find the volume of a sphere with diameter 12 cm.\n",
    "## Formula: V=4/3 * π * r3"
   ]
  },
  {
   "cell_type": "code",
   "execution_count": 8,
   "metadata": {},
   "outputs": [
    {
     "name": "stdin",
     "output_type": "stream",
     "text": [
      "Please enter the radius of the sphere in centimeters :- 5\n"
     ]
    },
    {
     "name": "stdout",
     "output_type": "stream",
     "text": [
      "Volume of the sphere whose radius 5 is  523.5987755982989 cubic centimeters\n"
     ]
    }
   ],
   "source": [
    "import math\n",
    "\n",
    "r = int(input('Please enter the radius of the sphere in centimeters :-'))\n",
    "V = (4/3)*math.pi*(r*r*r)\n",
    "print('Volume of the sphere whose radius {} is '.format(r),V, 'cubic centimeters')"
   ]
  },
  {
   "cell_type": "markdown",
   "metadata": {},
   "source": [
    "# Task-2"
   ]
  },
  {
   "cell_type": "markdown",
   "metadata": {},
   "source": [
    "## Q1. Write a program which accepts a sequence of comma-separated numbers from console and\n",
    "## generate a list."
   ]
  },
  {
   "cell_type": "code",
   "execution_count": 4,
   "metadata": {},
   "outputs": [
    {
     "name": "stdin",
     "output_type": "stream",
     "text": [
      "Please provide some comma separated numbers :  1,2,3,4,5,6,7,8,9\n"
     ]
    },
    {
     "name": "stdout",
     "output_type": "stream",
     "text": [
      "List generated is:- :  [1, 2, 3, 4, 5, 6, 7, 8, 9]\n"
     ]
    }
   ],
   "source": [
    "new_list=[]\n",
    "input_values = input(\"Please provide some comma separated numbers : \")\n",
    "list = input_values.split(\",\")\n",
    "for i in list:\n",
    "    m=int(i)\n",
    "    new_list.append(m)\n",
    "print('List generated is:- : ',new_list)"
   ]
  },
  {
   "cell_type": "markdown",
   "metadata": {},
   "source": [
    "I tried a second program which takes numbers below 100 from console individually and prints a list. Just for practice purpose, no marking expected."
   ]
  },
  {
   "cell_type": "code",
   "execution_count": 17,
   "metadata": {},
   "outputs": [
    {
     "name": "stdin",
     "output_type": "stream",
     "text": [
      "Please provide the number of numbers to be taken from console (n<100) :-  24\n",
      "Please provide the 1st number you want to input in the list 4\n",
      "Please provide the 2nd number you want to input in the list 5\n",
      "Please provide the 3rd number you want to input in the list 3\n",
      "Please provide the 4th number you want to input in the list 2\n",
      "Please provide the 5th number you want to input in the list 3\n",
      "Please provide the 6th number you want to input in the list 4\n",
      "Please provide the 7th number you want to input in the list 5\n",
      "Please provide the 8th number you want to input in the list 3\n",
      "Please provide the 9th number you want to input in the list 2\n",
      "Please provide the 10th number you want to input in the list 3\n",
      "Please provide the 11th number you want to input in the list 5\n",
      "Please provide the 12th number you want to input in the list 6\n",
      "Please provide the 13th number you want to input in the list 4\n",
      "Please provide the 14th number you want to input in the list 3\n",
      "Please provide the 15th number you want to input in the list 2\n",
      "Please provide the 16th number you want to input in the list 3\n",
      "Please provide the 17th number you want to input in the list 6\n",
      "Please provide the 18th number you want to input in the list 7\n",
      "Please provide the 19th number you want to input in the list 89\n",
      "Please provide the 20th number you want to input in the list 876\n",
      "Please provide the 21st number you want to input in the list 5443\n",
      "Please provide the 22nd number you want to input in the list 222\n",
      "Please provide the 23rd number you want to input in the list 2347654\n",
      "Please provide the 24th number you want to input in the list 33\n"
     ]
    },
    {
     "name": "stdout",
     "output_type": "stream",
     "text": [
      "The list generated is  [4, 5, 3, 2, 3, 4, 5, 3, 2, 3, 5, 6, 4, 3, 2, 3, 6, 7, 89, 876, 5443, 222, 2347654, 33]\n"
     ]
    }
   ],
   "source": [
    "n = int(input('Please provide the number of numbers to be taken from console (n<100) :- '))\n",
    "l = []\n",
    "for i in range(n):\n",
    "    if ((i==0) or (i==20) or (i==30) or (i==40) or (i==50) or (i==60) or (i==70) or (i==80) or (i==90)):\n",
    "        b=int(input('Please provide the {}st number you want to input in the list'.format(i+1)))\n",
    "    elif ((i==1) or (i==21) or (i==31) or (i==41) or (i==51) or (i==61) or (i==71) or (i==81) or (i==91)):\n",
    "        b=int(input('Please provide the {}nd number you want to input in the list'.format(i+1)))\n",
    "    elif ((i==2) or (i==22) or (i==32) or (i==42) or (i==52) or (i==62) or (i==72) or (i==82) or (i==92)):\n",
    "        b=int(input('Please provide the {}rd number you want to input in the list'.format(i+1)))\n",
    "    elif ((i==10) or (i==11) or (i==12)) :\n",
    "        b=int(input('Please provide the {}th number you want to input in the list'.format(i+1)))\n",
    "    else:\n",
    "        b=int(input('Please provide the {}th number you want to input in the list'.format(i+1)))\n",
    "    l.append(b)\n",
    "print('The list generated is ', l)\n",
    "    "
   ]
  },
  {
   "cell_type": "markdown",
   "metadata": {},
   "source": [
    "## Q2. Create the below pattern using nested for loop in Python.\n",
    "\n",
    "## *\n",
    "## * *\n",
    "## * * *\n",
    "## * * * *\n",
    "## * * * * *\n",
    "## * * * *\n",
    "## * * *\n",
    "## * *\n",
    "## *"
   ]
  },
  {
   "cell_type": "markdown",
   "metadata": {},
   "source": [
    "I know there will be a better way of solving the above problem than what I have written, but this is the best i have tried in terms of coming up with my own solution.\n"
   ]
  },
  {
   "cell_type": "code",
   "execution_count": 33,
   "metadata": {},
   "outputs": [
    {
     "name": "stdout",
     "output_type": "stream",
     "text": [
      "\n",
      "*\n",
      "**\n",
      "***\n",
      "****\n",
      "*****\n",
      "****\n",
      "***\n",
      "**\n",
      "*\n",
      "\n",
      "\n",
      "\n",
      "\n"
     ]
    }
   ],
   "source": [
    "i=0\n",
    "j=0\n",
    "k=0\n",
    "\n",
    "for i in range(10):\n",
    "    for j in range(7):\n",
    "        if k>0:\n",
    "            break\n",
    "        \n",
    "        if (i<j):\n",
    "            if (i!=6) and (i!=7) and (i!=8) and (i!=9) and (i!=10):\n",
    "                print('*' * i)\n",
    "                i=i+1\n",
    "                j=j+1\n",
    "            else:\n",
    "                break\n",
    "        elif i==0 and j==0:\n",
    "            continue\n",
    "    \n",
    "    j=0\n",
    "    k=k+1\n",
    "    for m in range(5):\n",
    "        if m==0 or m==1:\n",
    "            continue\n",
    "        else:\n",
    "            if i !=1:\n",
    "                i=i-m\n",
    "                \n",
    "            print('*' * i)\n",
    "            \n",
    "            i = i+2\n",
    "            \n",
    "            if i==5:\n",
    "                i=i+1\n",
    "            if i==1:\n",
    "                break\n",
    "    \n",
    "    if i==1:\n",
    "        break\n",
    "    \n",
    "   "
   ]
  },
  {
   "cell_type": "markdown",
   "metadata": {},
   "source": [
    "## Q3. Write a Python program to reverse a word after accepting the input from the user."
   ]
  },
  {
   "cell_type": "code",
   "execution_count": 18,
   "metadata": {},
   "outputs": [
    {
     "name": "stdin",
     "output_type": "stream",
     "text": [
      "Enter any word of your choice AcadGild\n"
     ]
    },
    {
     "data": {
      "text/plain": [
       "'dliGdacA'"
      ]
     },
     "execution_count": 18,
     "metadata": {},
     "output_type": "execute_result"
    }
   ],
   "source": [
    "b =input(\"Enter any word of your choice\")\n",
    "b[::-1]"
   ]
  },
  {
   "cell_type": "code",
   "execution_count": 35,
   "metadata": {},
   "outputs": [
    {
     "name": "stdout",
     "output_type": "stream",
     "text": [
      "\n"
     ]
    }
   ],
   "source": [
    "print('*' *0)"
   ]
  },
  {
   "cell_type": "markdown",
   "metadata": {},
   "source": [
    "## Q4. Write a Python Program to print the given string in the format specified in the sample output \n",
    "\n",
    "## WE, THE PEOPLE OF INDIA, having solemnly resolved to constitute India into a\n",
    "## SOVEREIGN, SOCIALIST, SECULAR, DEMOCRATIC REPUBLIC and to secure to all\n",
    "## its citizens"
   ]
  },
  {
   "cell_type": "code",
   "execution_count": 8,
   "metadata": {},
   "outputs": [],
   "source": [
    "paragraph = \"\"\"WE, THE PEOPLE OF INDIA, {} having solemnly resolved to constitute India into a SOVEREIGN,{} SOCIALIST, SECULAR, DEMOCRATIC REPUBLIC{} and to secure to all its citizens\"\"\""
   ]
  },
  {
   "cell_type": "code",
   "execution_count": 14,
   "metadata": {},
   "outputs": [
    {
     "name": "stdout",
     "output_type": "stream",
     "text": [
      "WE, THE PEOPLE OF INDIA, \n",
      "\t having solemnly resolved to constitute India into a SOVEREIGN,!\n",
      "\t\t SOCIALIST, SECULAR, DEMOCRATIC REPUBLIC\n",
      "\t\t  and to secure to all its citizens\n"
     ]
    }
   ],
   "source": [
    "print(paragraph.format('\\n\\t','!\\n\\t\\t','\\n\\t\\t '))"
   ]
  },
  {
   "cell_type": "code",
   "execution_count": null,
   "metadata": {},
   "outputs": [],
   "source": []
  },
  {
   "cell_type": "code",
   "execution_count": null,
   "metadata": {},
   "outputs": [],
   "source": []
  }
 ],
 "metadata": {
  "kernelspec": {
   "display_name": "Python 3",
   "language": "python",
   "name": "python3"
  },
  "language_info": {
   "codemirror_mode": {
    "name": "ipython",
    "version": 3
   },
   "file_extension": ".py",
   "mimetype": "text/x-python",
   "name": "python",
   "nbconvert_exporter": "python",
   "pygments_lexer": "ipython3",
   "version": "3.7.6"
  }
 },
 "nbformat": 4,
 "nbformat_minor": 4
}
